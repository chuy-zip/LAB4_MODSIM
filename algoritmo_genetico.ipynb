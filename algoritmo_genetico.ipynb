{
 "cells": [
  {
   "cell_type": "markdown",
   "id": "e4e6fc79",
   "metadata": {},
   "source": [
    "# Algoritmo genético para el problema TSP berin 52"
   ]
  },
  {
   "cell_type": "code",
   "execution_count": 9,
   "id": "d4252326",
   "metadata": {},
   "outputs": [],
   "source": [
    "import pickle\n",
    "import os\n",
    "from distance_table import DistanceTable\n"
   ]
  },
  {
   "cell_type": "code",
   "execution_count": 10,
   "id": "58160601",
   "metadata": {},
   "outputs": [
    {
     "name": "stdout",
     "output_type": "stream",
     "text": [
      "NAME: berlin52\n",
      "TYPE: TSP\n",
      "COMMENT: 52 locations in Berlin (Groetschel)\n",
      "DIMENSION: 52\n",
      "EDGE_WEIGHT_TYPE: EUC_2D\n",
      "NODE_COORD_SECTION\n",
      "1 565.0 575.0\n",
      "2 25.0 185.0\n",
      "3 345.0 750.0\n",
      "4 945.0 685.0\n",
      "5 845.0 655.0\n",
      "6 880.0 660.0\n",
      "7 25.0 230.0\n",
      "8 525.0 1000.0\n",
      "9 580.0 1175.0\n",
      "10 650.0 1130.0\n",
      "11 1605.0 620.0\n",
      "12 1220.0 580.0\n",
      "13 1465.0 200.0\n",
      "14 1530.0 5.0\n",
      "15 845.0 680.0\n",
      "16 725.0 370.0\n",
      "17 145.0 665.0\n",
      "18 415.0 635.0\n",
      "19 510.0 875.0\n",
      "20 560.0 365.0\n",
      "21 300.0 465.0\n",
      "22 520.0 585.0\n",
      "23 480.0 415.0\n",
      "24 835.0 625.0\n",
      "25 975.0 580.0\n",
      "26 1215.0 245.0\n",
      "27 1320.0 315.0\n",
      "28 1250.0 400.0\n",
      "29 660.0 180.0\n",
      "30 410.0 250.0\n",
      "31 420.0 555.0\n",
      "32 575.0 665.0\n",
      "33 1150.0 1160.0\n",
      "34 700.0 580.0\n",
      "35 685.0 595.0\n",
      "36 685.0 610.0\n",
      "37 770.0 610.0\n",
      "38 795.0 645.0\n",
      "39 720.0 635.0\n",
      "40 760.0 650.0\n",
      "41 475.0 960.0\n",
      "42 95.0 260.0\n",
      "43 875.0 920.0\n",
      "44 700.0 500.0\n",
      "45 555.0 815.0\n",
      "46 830.0 485.0\n",
      "47 1170.0 65.0\n",
      "48 830.0 610.0\n",
      "49 605.0 625.0\n",
      "50 595.0 360.0\n",
      "51 1340.0 725.0\n",
      "52 1740.0 245.0\n",
      "EOF\n",
      "\n"
     ]
    }
   ],
   "source": [
    "# Lo primero es cargar cargar el archivo que contiene los nodos y sus posiciones.\n",
    "\n",
    "file_path = 'berlin52_tour_data.txt'\n",
    "clean_lines = []\n",
    "try:\n",
    "    with open(file_path, 'r') as file:\n",
    "        lines = file.readlines()\n",
    "        for line in lines:\n",
    "            clean_lines.append(line.strip())\n",
    "            print(line.strip()) # .strip() removes leading/trailing whitespace, including newline characters\n",
    "except FileNotFoundError:\n",
    "    print(f\"Error: The file '{file_path}' was not found.\")\n",
    "except Exception as e:\n",
    "    print(f\"An error occurred: {e}\")"
   ]
  },
  {
   "cell_type": "code",
   "execution_count": 11,
   "id": "5154b958",
   "metadata": {},
   "outputs": [
    {
     "name": "stdout",
     "output_type": "stream",
     "text": [
      "['1 565.0 575.0', '2 25.0 185.0', '3 345.0 750.0', '4 945.0 685.0', '5 845.0 655.0', '6 880.0 660.0', '7 25.0 230.0', '8 525.0 1000.0', '9 580.0 1175.0', '10 650.0 1130.0', '11 1605.0 620.0', '12 1220.0 580.0', '13 1465.0 200.0', '14 1530.0 5.0', '15 845.0 680.0', '16 725.0 370.0', '17 145.0 665.0', '18 415.0 635.0', '19 510.0 875.0', '20 560.0 365.0', '21 300.0 465.0', '22 520.0 585.0', '23 480.0 415.0', '24 835.0 625.0', '25 975.0 580.0', '26 1215.0 245.0', '27 1320.0 315.0', '28 1250.0 400.0', '29 660.0 180.0', '30 410.0 250.0', '31 420.0 555.0', '32 575.0 665.0', '33 1150.0 1160.0', '34 700.0 580.0', '35 685.0 595.0', '36 685.0 610.0', '37 770.0 610.0', '38 795.0 645.0', '39 720.0 635.0', '40 760.0 650.0', '41 475.0 960.0', '42 95.0 260.0', '43 875.0 920.0', '44 700.0 500.0', '45 555.0 815.0', '46 830.0 485.0', '47 1170.0 65.0', '48 830.0 610.0', '49 605.0 625.0', '50 595.0 360.0', '51 1340.0 725.0', '52 1740.0 245.0']\n"
     ]
    }
   ],
   "source": [
    "# ahora para que sea más fácil el procesamiento y los cálculos del algoritmo\n",
    "# primero es mejor hacer una matriz donde se guarda la distancia entre todos los puntos\n",
    "# de tal forma que la intersección entre 2 nodos sea su distancia.  \n",
    "\n",
    "# seleccionar solo los nodos del archivo\n",
    "nodes = clean_lines[6:]\n",
    "nodes = nodes[:52]\n",
    "print(nodes)\n"
   ]
  },
  {
   "cell_type": "code",
   "execution_count": 12,
   "id": "df905df9",
   "metadata": {},
   "outputs": [],
   "source": [
    "# ahora crear la distance table en base a la lista de nodos la traemos de un archivo guardado si existe o sino \n",
    "# se instancia de nuevo\n",
    "\n",
    "def load_or_create_distance_table(nodes, cache_file='distance_table.pkl'):\n",
    "    if os.path.exists(cache_file):\n",
    "        print(f\"Cargando matriz de distancias desde {cache_file}\")\n",
    "        with open(cache_file, 'rb') as f:\n",
    "            return pickle.load(f)\n",
    "    else:\n",
    "        print(\"Calculando matriz de distancias\")\n",
    "        distance_table = DistanceTable(nodes)\n",
    "        print(f\"Guardando matriz en {cache_file} para uso futuro\")\n",
    "        with open(cache_file, 'wb') as f:\n",
    "            pickle.dump(distance_table, f)\n",
    "        return distance_table"
   ]
  },
  {
   "cell_type": "code",
   "execution_count": 15,
   "id": "4e91df9f",
   "metadata": {},
   "outputs": [
    {
     "name": "stdout",
     "output_type": "stream",
     "text": [
      "Cargando matriz de distancias desde distance_table.pkl\n",
      "Cantidad de nodos:  52\n",
      "(1, 565.0, 575.0)\n",
      "(2, 25.0, 185.0)\n",
      "(3, 345.0, 750.0)\n",
      "(4, 945.0, 685.0)\n",
      "(5, 845.0, 655.0)\n",
      "(6, 880.0, 660.0)\n",
      "(7, 25.0, 230.0)\n",
      "(8, 525.0, 1000.0)\n",
      "(9, 580.0, 1175.0)\n",
      "(10, 650.0, 1130.0)\n",
      "(11, 1605.0, 620.0)\n",
      "(12, 1220.0, 580.0)\n",
      "(13, 1465.0, 200.0)\n",
      "(14, 1530.0, 5.0)\n",
      "(15, 845.0, 680.0)\n",
      "(16, 725.0, 370.0)\n",
      "(17, 145.0, 665.0)\n",
      "(18, 415.0, 635.0)\n",
      "(19, 510.0, 875.0)\n",
      "(20, 560.0, 365.0)\n",
      "(21, 300.0, 465.0)\n",
      "(22, 520.0, 585.0)\n",
      "(23, 480.0, 415.0)\n",
      "(24, 835.0, 625.0)\n",
      "(25, 975.0, 580.0)\n",
      "(26, 1215.0, 245.0)\n",
      "(27, 1320.0, 315.0)\n",
      "(28, 1250.0, 400.0)\n",
      "(29, 660.0, 180.0)\n",
      "(30, 410.0, 250.0)\n",
      "(31, 420.0, 555.0)\n",
      "(32, 575.0, 665.0)\n",
      "(33, 1150.0, 1160.0)\n",
      "(34, 700.0, 580.0)\n",
      "(35, 685.0, 595.0)\n",
      "(36, 685.0, 610.0)\n",
      "(37, 770.0, 610.0)\n",
      "(38, 795.0, 645.0)\n",
      "(39, 720.0, 635.0)\n",
      "(40, 760.0, 650.0)\n",
      "(41, 475.0, 960.0)\n",
      "(42, 95.0, 260.0)\n",
      "(43, 875.0, 920.0)\n",
      "(44, 700.0, 500.0)\n",
      "(45, 555.0, 815.0)\n",
      "(46, 830.0, 485.0)\n",
      "(47, 1170.0, 65.0)\n",
      "(48, 830.0, 610.0)\n",
      "(49, 605.0, 625.0)\n",
      "(50, 595.0, 360.0)\n",
      "(51, 1340.0, 725.0)\n",
      "(52, 1740.0, 245.0)\n"
     ]
    }
   ],
   "source": [
    "distance_table = load_or_create_distance_table(nodes)\n",
    "\n",
    "nodes = distance_table.nodes\n",
    "\n",
    "print(\"Cantidad de nodos: \", len(nodes))\n",
    "for node in nodes:\n",
    "    print(node)"
   ]
  }
 ],
 "metadata": {
  "kernelspec": {
   "display_name": "Python 3",
   "language": "python",
   "name": "python3"
  },
  "language_info": {
   "codemirror_mode": {
    "name": "ipython",
    "version": 3
   },
   "file_extension": ".py",
   "mimetype": "text/x-python",
   "name": "python",
   "nbconvert_exporter": "python",
   "pygments_lexer": "ipython3",
   "version": "3.12.2"
  }
 },
 "nbformat": 4,
 "nbformat_minor": 5
}
